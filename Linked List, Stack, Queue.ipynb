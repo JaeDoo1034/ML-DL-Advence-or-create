{
 "cells": [
  {
   "cell_type": "markdown",
   "metadata": {},
   "source": [
    "### Linked list 구현"
   ]
  },
  {
   "cell_type": "markdown",
   "metadata": {},
   "source": [
    "##### node구현"
   ]
  },
  {
   "cell_type": "code",
   "execution_count": 2,
   "metadata": {},
   "outputs": [],
   "source": [
    "class Node:\n",
    "    nodeNext = None\n",
    "    nodePrev = ''\n",
    "    nodeValue = ''\n",
    "    binHead = False\n",
    "    binTail = False\n",
    "    def __init__(self,objvalue = '',nodeNext = None,binHead = False,binTail = False):\n",
    "        self.nodeNext = nodeNext\n",
    "        self.objvalue = objvalue\n",
    "        self.binHead = binHead\n",
    "        self.binTail = binTail\n",
    "        \n",
    "        \n",
    "    def getValue(self):\n",
    "        return self.objvalue\n",
    "    \n",
    "    def setValue(self,objvalue):\n",
    "        self.objvalue = objvalue\n",
    "    \n",
    "    def getNext(self):\n",
    "        return self.nodeNext\n",
    "    def setNext(self,nodeNext):\n",
    "        self.nodeNext = nodeNext\n",
    "        \n",
    "    def isHead(self):\n",
    "        return self.binHead\n",
    "    \n",
    "    def isTail(self):\n",
    "        return self.binTail"
   ]
  },
  {
   "cell_type": "code",
   "execution_count": 3,
   "metadata": {},
   "outputs": [],
   "source": [
    "node1 = Node(objvalue = 1)"
   ]
  },
  {
   "cell_type": "code",
   "execution_count": 4,
   "metadata": {},
   "outputs": [],
   "source": [
    "nodeTail = Node(binTail = True)"
   ]
  },
  {
   "cell_type": "code",
   "execution_count": 5,
   "metadata": {},
   "outputs": [],
   "source": [
    "nodeHead = Node(binHead = True,nodeNext = node1)"
   ]
  },
  {
   "cell_type": "code",
   "execution_count": 6,
   "metadata": {},
   "outputs": [],
   "source": [
    "A = [1,2,3]"
   ]
  },
  {
   "cell_type": "markdown",
   "metadata": {},
   "source": [
    "##### Singly Linked List 구현"
   ]
  },
  {
   "cell_type": "code",
   "execution_count": 86,
   "metadata": {},
   "outputs": [],
   "source": [
    "class SinglyLinkedList():\n",
    "    nodeHead = ''\n",
    "    nodeTail = ''\n",
    "    size = 0\n",
    "    \n",
    "    def __init__(self): # Empty Linked List으로 초기화\n",
    "        self.nodeTail = Node(binTail = True)\n",
    "        self.nodeHead = Node(binHead = True, nodeNext = self.nodeTail)\n",
    "        \n",
    "        \n",
    "    def insertAt(self, objInsert, idxInsert):\n",
    "        nodeNew = Node(objvalue = objInsert)\n",
    "        nodePrev = self.get(idxInsert-1)\n",
    "        nodeNext = nodePrev.getNext()\n",
    "        nodePrev.setNext(nodeNew)\n",
    "        nodeNew.setNext(nodeNext)\n",
    "        self.size += 1\n",
    "        \n",
    "    \n",
    "    def removeAt(self,idxRemove):\n",
    "        nodePrev = self.get(idxRemove - 1)\n",
    "        nodeRemove = nodePrev.getNext()\n",
    "        nodeNext = nodeRemove.getNext()\n",
    "        nodePrev.setNext(nodeNext)\n",
    "        self.size -= 1\n",
    "        return nodeRemove.getValue()\n",
    "        \n",
    "    def get(self,idxRetrieve):\n",
    "        nodeReturn = self.nodeHead\n",
    "        for itr in range(idxRetrieve+1):\n",
    "            nodeReturn = nodeReturn.getNext()\n",
    "        return nodeReturn\n",
    "    \n",
    "    def printStatus(self):\n",
    "        nodeCurrent = self.nodeHead\n",
    "        while nodeCurrent.getNext().isTail() == False:\n",
    "            nodeCurrent = nodeCurrent.getNext()\n",
    "            print(nodeCurrent.getValue(), end = \" \")\n",
    "        print(\"\")\n",
    "        \n",
    "    def getSize(self):\n",
    "        return self.size"
   ]
  },
  {
   "cell_type": "code",
   "execution_count": 95,
   "metadata": {},
   "outputs": [],
   "source": [
    "list1 = SinglyLinkedList()"
   ]
  },
  {
   "cell_type": "code",
   "execution_count": 96,
   "metadata": {},
   "outputs": [
    {
     "name": "stdout",
     "output_type": "stream",
     "text": [
      "<class 'str'> <class 'str'> <class 'str'> <class 'str'> <class 'str'> \n"
     ]
    }
   ],
   "source": [
    "list1.insertAt('a',0)\n",
    "list1.insertAt('b',1)\n",
    "list1.insertAt('d',2)\n",
    "list1.insertAt('e',3)\n",
    "list1.insertAt('f',4)\n",
    "list1.printStatus()"
   ]
  },
  {
   "cell_type": "markdown",
   "metadata": {},
   "source": [
    "### Stack 구현"
   ]
  },
  {
   "cell_type": "code",
   "execution_count": 57,
   "metadata": {},
   "outputs": [],
   "source": [
    "class Stack():\n",
    "    lstInstance = SinglyLinkedList()\n",
    "    \n",
    "    def pop(self):\n",
    "        return self.lstInstance.removeAt(0)\n",
    "    \n",
    "    def push(self,value):\n",
    "        self.lstInstance.insertAt(value,0)"
   ]
  },
  {
   "cell_type": "code",
   "execution_count": 58,
   "metadata": {},
   "outputs": [],
   "source": [
    "stack = Stack()"
   ]
  },
  {
   "cell_type": "code",
   "execution_count": 59,
   "metadata": {},
   "outputs": [],
   "source": [
    "stack.push('a')\n",
    "stack.push('b')\n",
    "stack.push('c')"
   ]
  },
  {
   "cell_type": "code",
   "execution_count": 62,
   "metadata": {},
   "outputs": [
    {
     "name": "stdout",
     "output_type": "stream",
     "text": [
      "c\n",
      "b\n",
      "a\n"
     ]
    }
   ],
   "source": [
    "print(stack.pop())\n",
    "print(stack.pop())\n",
    "print(stack.pop())"
   ]
  },
  {
   "cell_type": "code",
   "execution_count": null,
   "metadata": {},
   "outputs": [],
   "source": []
  },
  {
   "cell_type": "markdown",
   "metadata": {},
   "source": [
    "### Queue 구현"
   ]
  },
  {
   "cell_type": "code",
   "execution_count": 71,
   "metadata": {},
   "outputs": [],
   "source": [
    "class Queue():\n",
    "    lstInstance = SinglyLinkedList()\n",
    "    \n",
    "    def dequeue(self):\n",
    "        return self.lstInstance.removeAt(0)\n",
    "    \n",
    "    def enqueue(self,value):\n",
    "        self.lstInstance.insertAt(value, self.lstInstance.getSize())"
   ]
  },
  {
   "cell_type": "code",
   "execution_count": 72,
   "metadata": {},
   "outputs": [],
   "source": [
    "queue = Queue()"
   ]
  },
  {
   "cell_type": "code",
   "execution_count": 73,
   "metadata": {},
   "outputs": [],
   "source": [
    "queue.enqueue('a')\n",
    "queue.enqueue('b')\n",
    "queue.enqueue('c')"
   ]
  },
  {
   "cell_type": "code",
   "execution_count": 74,
   "metadata": {},
   "outputs": [
    {
     "name": "stdout",
     "output_type": "stream",
     "text": [
      "a\n",
      "b\n",
      "c\n"
     ]
    }
   ],
   "source": [
    "print(queue.dequeue())\n",
    "print(queue.dequeue())\n",
    "print(queue.dequeue())"
   ]
  },
  {
   "cell_type": "code",
   "execution_count": null,
   "metadata": {},
   "outputs": [],
   "source": []
  }
 ],
 "metadata": {
  "kernelspec": {
   "display_name": "Python 3",
   "language": "python",
   "name": "python3"
  },
  "language_info": {
   "codemirror_mode": {
    "name": "ipython",
    "version": 3
   },
   "file_extension": ".py",
   "mimetype": "text/x-python",
   "name": "python",
   "nbconvert_exporter": "python",
   "pygments_lexer": "ipython3",
   "version": "3.7.4"
  }
 },
 "nbformat": 4,
 "nbformat_minor": 2
}

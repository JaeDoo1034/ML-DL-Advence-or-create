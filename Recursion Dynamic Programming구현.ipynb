{
 "cells": [
  {
   "cell_type": "markdown",
   "metadata": {},
   "source": [
    "### Recursion 구현"
   ]
  },
  {
   "cell_type": "markdown",
   "metadata": {},
   "source": [
    "##### 1) 피보나치"
   ]
  },
  {
   "cell_type": "code",
   "execution_count": 3,
   "metadata": {},
   "outputs": [],
   "source": [
    "def Fibonacci(n):\n",
    "    if n==0:\n",
    "        return 0\n",
    "    if n==1:\n",
    "        return 1\n",
    "    IntRet = Fibonacci(n-1) + Fibonacci(n-2)\n",
    "    return IntRet"
   ]
  },
  {
   "cell_type": "code",
   "execution_count": 4,
   "metadata": {},
   "outputs": [
    {
     "name": "stdout",
     "output_type": "stream",
     "text": [
      "0 1 1 2 3 5 8 13 21 34 "
     ]
    }
   ],
   "source": [
    "for itr in range(10):\n",
    "    print(Fibonacci(itr), end = \" \")"
   ]
  },
  {
   "cell_type": "markdown",
   "metadata": {},
   "source": [
    "##### 2) Merge Sort "
   ]
  },
  {
   "cell_type": "code",
   "execution_count": 5,
   "metadata": {},
   "outputs": [],
   "source": [
    "import random"
   ]
  },
  {
   "cell_type": "code",
   "execution_count": 46,
   "metadata": {},
   "outputs": [],
   "source": [
    "def performMergeSort(lstElementToSort):\n",
    "    # Escape\n",
    "    if len(lstElementToSort) == 1:\n",
    "        return lstElementToSort\n",
    "    \n",
    "    # Decompostion 구현\n",
    "    lstSubElementToSort1 = []\n",
    "    lstSubElementToSort2 = []\n",
    "    \n",
    "    for itr in range(len(lstElementToSort)):\n",
    "        if len(lstElementToSort)/2 > itr:\n",
    "            lstSubElementToSort1.append(lstElementToSort[itr])\n",
    "            \n",
    "        else:\n",
    "            lstSubElementToSort2.append(lstElementToSort[itr])\n",
    "            \n",
    "    print('De_1 과정 ',lstSubElementToSort1)\n",
    "    print('De_2 과정 ', lstSubElementToSort2)\n",
    "    # Recurison\n",
    "    lstSubElementToSort1 = performMergeSort(lstSubElementToSort1)\n",
    "    lstSubElementToSort2 = performMergeSort(lstSubElementToSort2)\n",
    "    \n",
    "    \n",
    "    # Aggreation\n",
    "    idxCount1 = 0\n",
    "    idxCount2 = 0\n",
    "    \n",
    "    for itr in range(len(lstElementToSort)):\n",
    "        if idxCount1 == len(lstSubElementToSort1):\n",
    "            lstElementToSort[itr] = lstSubElementToSort2[idxCount2]\n",
    "            print('Ag_과정 ', lstElementToSort)\n",
    "            idxCount2 += 1\n",
    "        \n",
    "        elif idxCount2 == len(lstSubElementToSort2):\n",
    "            lstElementToSort[itr] = lstSubElementToSort1[idxCount1]\n",
    "            print('Ag_과정 ', lstElementToSort)\n",
    "            idxCount1 += 1\n",
    "        \n",
    "        elif lstSubElementToSort1[idxCount1] > lstSubElementToSort2[idxCount2]:\n",
    "            lstElementToSort[itr] = lstSubElementToSort2[idxCount2]\n",
    "            print(\"Ag 중 크기비교 \",lstElementToSort[itr])\n",
    "            idxCount2 += 1\n",
    "        \n",
    "        else:\n",
    "            lstElementToSort[itr] = lstSubElementToSort1[idxCount1]\n",
    "            print(\"Ag 중 크기비교 \",lstElementToSort[itr])\n",
    "            idxCount1 += 1\n",
    "        \n",
    "        return lstElementToSort"
   ]
  },
  {
   "cell_type": "code",
   "execution_count": 47,
   "metadata": {},
   "outputs": [],
   "source": [
    "lstRandom = []\n",
    "for itr in range(10):\n",
    "    lstRandom.append(random.randrange(0,100))"
   ]
  },
  {
   "cell_type": "code",
   "execution_count": 48,
   "metadata": {},
   "outputs": [
    {
     "name": "stdout",
     "output_type": "stream",
     "text": [
      "[30, 9, 17, 28, 75, 31, 63, 17, 47, 26]\n"
     ]
    }
   ],
   "source": [
    "print(lstRandom)"
   ]
  },
  {
   "cell_type": "code",
   "execution_count": 49,
   "metadata": {},
   "outputs": [
    {
     "name": "stdout",
     "output_type": "stream",
     "text": [
      "De_1 과정  [30, 9, 17, 28, 75]\n",
      "De_2 과정  [31, 63, 17, 47, 26]\n",
      "De_1 과정  [30, 9, 17]\n",
      "De_2 과정  [28, 75]\n",
      "De_1 과정  [30, 9]\n",
      "De_2 과정  [17]\n",
      "De_1 과정  [30]\n",
      "De_2 과정  [9]\n",
      "Ag 중 크기비교  9\n",
      "Ag 중 크기비교  9\n",
      "De_1 과정  [28]\n",
      "De_2 과정  [75]\n",
      "Ag 중 크기비교  28\n",
      "Ag 중 크기비교  9\n",
      "De_1 과정  [31, 63, 17]\n",
      "De_2 과정  [47, 26]\n",
      "De_1 과정  [31, 63]\n",
      "De_2 과정  [17]\n",
      "De_1 과정  [31]\n",
      "De_2 과정  [63]\n",
      "Ag 중 크기비교  31\n",
      "Ag 중 크기비교  17\n",
      "De_1 과정  [47]\n",
      "De_2 과정  [26]\n",
      "Ag 중 크기비교  26\n",
      "Ag 중 크기비교  17\n",
      "Ag 중 크기비교  9\n"
     ]
    }
   ],
   "source": [
    "lstRandom1 = performMergeSort(lstRandom)"
   ]
  },
  {
   "cell_type": "code",
   "execution_count": 50,
   "metadata": {},
   "outputs": [
    {
     "name": "stdout",
     "output_type": "stream",
     "text": [
      "[9, 9, 17, 28, 75, 31, 63, 17, 47, 26]\n"
     ]
    }
   ],
   "source": [
    "print(lstRandom1)"
   ]
  },
  {
   "cell_type": "code",
   "execution_count": 38,
   "metadata": {},
   "outputs": [],
   "source": [
    "A = [3,8,4,2,1,6,7,5]"
   ]
  },
  {
   "cell_type": "code",
   "execution_count": 39,
   "metadata": {},
   "outputs": [],
   "source": [
    "A1= performMergeSort(A)"
   ]
  },
  {
   "cell_type": "code",
   "execution_count": 40,
   "metadata": {},
   "outputs": [
    {
     "data": {
      "text/plain": [
       "[1, 8, 4, 2, 1, 6, 7, 5]"
      ]
     },
     "execution_count": 40,
     "metadata": {},
     "output_type": "execute_result"
    }
   ],
   "source": [
    "A1"
   ]
  },
  {
   "cell_type": "code",
   "execution_count": null,
   "metadata": {},
   "outputs": [],
   "source": []
  },
  {
   "cell_type": "markdown",
   "metadata": {},
   "source": [
    "### Dynamic Programming 구현"
   ]
  },
  {
   "cell_type": "markdown",
   "metadata": {},
   "source": [
    "##### 1) 피보나치"
   ]
  },
  {
   "cell_type": "code",
   "execution_count": 51,
   "metadata": {},
   "outputs": [],
   "source": [
    "def FibonacciDP(n):\n",
    "    dicFibonacci = {}\n",
    "    dicFibonacci[0] = 0\n",
    "    dicFibonacci[1] = 1\n",
    "    \n",
    "    for itr in range(2,n+1):\n",
    "        dicFibonacci[itr] = dicFibonacci[itr-1] + dicFibonacci[itr-2]\n",
    "        \n",
    "    return dicFibonacci[n]"
   ]
  },
  {
   "cell_type": "code",
   "execution_count": 52,
   "metadata": {},
   "outputs": [
    {
     "name": "stdout",
     "output_type": "stream",
     "text": [
      "0 1 1 2 3 5 8 13 21 34 "
     ]
    }
   ],
   "source": [
    "for itr in range(0,10):\n",
    "    print(FibonacciDP(itr), end = \" \")"
   ]
  },
  {
   "cell_type": "markdown",
   "metadata": {},
   "source": [
    "### Assembly Line Scheduling 구현"
   ]
  },
  {
   "cell_type": "markdown",
   "metadata": {},
   "source": [
    "##### Recursion으로 구현"
   ]
  },
  {
   "cell_type": "code",
   "execution_count": 53,
   "metadata": {},
   "outputs": [],
   "source": [
    "class AssemblyLines:\n",
    "    timeStation = [[7,9,3,4,8,4], [8,5,6,4,5,7]]\n",
    "    timeBelt= [[2,2,3,1,3,4,3],[4,2,1,2,2,1,2]]\n",
    "    intCount = 0\n",
    "    \n",
    "    def Scheduling(self,idxLine,idxStation):\n",
    "        print('Calculate scheduling : line, station : {}, {} ,( {} recursion calls)'.format(idxLine,idxStation,self.intCount))\n",
    "        self.intCount = self.intCount + 1\n",
    "        if idxStation == 0:\n",
    "            if idxLine == 1:\n",
    "                return self.timeBelt[0][0] + self.timeStation[0][0]\n",
    "            elif idxLine ==2:\n",
    "                return self.timeBelt[1][0] + self.timeStation[1][0]\n",
    "        \n",
    "        # Recursion\n",
    "        if idxLine ==1:\n",
    "            costLine1 = self.Scheduling(1,idxStation-1) + self.timeStation[0][idxStation]\n",
    "            costLine2 = self.Scheduling(2,idxStation - 1) + self.timeStation[0][idxStation] + self.timeBelt[1][idxStation]\n",
    "        elif idxLine ==2:\n",
    "            costLine1 = self.Scheduling(1,idxStation-1) + self.timeStation[1][idxStation] + self.timeBelt[0][idxStation]\n",
    "            costLine2 = self.Scheduling(2,idxStation - 1) + self.timeStation[1][idxStation] \n",
    "            \n",
    "        if costLine1 > costLine2:\n",
    "            return costLine2\n",
    "        else:\n",
    "            return costLine1\n",
    "        \n",
    "    def startScheduling(self):\n",
    "        numStation = len(self.timeStation[0])\n",
    "        costLine1 = self.Scheduling(1,numStation - 1) + self.timeBelt[0][numStation]\n",
    "        costLine2 = self.Scheduling(2,numStation - 1) + self.timeBelt[1][numStation]\n",
    "            \n",
    "        if costLine1 > costLine2:\n",
    "            return costLine2\n",
    "        else:\n",
    "            return costLine1\n",
    "        "
   ]
  },
  {
   "cell_type": "code",
   "execution_count": 54,
   "metadata": {},
   "outputs": [],
   "source": [
    "lines = AssemblyLines()"
   ]
  },
  {
   "cell_type": "code",
   "execution_count": 55,
   "metadata": {},
   "outputs": [
    {
     "name": "stdout",
     "output_type": "stream",
     "text": [
      "Calculate scheduling : line, station : 1, 5 ,( 0 recursion calls)\n",
      "Calculate scheduling : line, station : 1, 4 ,( 1 recursion calls)\n",
      "Calculate scheduling : line, station : 1, 3 ,( 2 recursion calls)\n",
      "Calculate scheduling : line, station : 1, 2 ,( 3 recursion calls)\n",
      "Calculate scheduling : line, station : 1, 1 ,( 4 recursion calls)\n",
      "Calculate scheduling : line, station : 1, 0 ,( 5 recursion calls)\n",
      "Calculate scheduling : line, station : 2, 0 ,( 6 recursion calls)\n",
      "Calculate scheduling : line, station : 2, 1 ,( 7 recursion calls)\n",
      "Calculate scheduling : line, station : 1, 0 ,( 8 recursion calls)\n",
      "Calculate scheduling : line, station : 2, 0 ,( 9 recursion calls)\n",
      "Calculate scheduling : line, station : 2, 2 ,( 10 recursion calls)\n",
      "Calculate scheduling : line, station : 1, 1 ,( 11 recursion calls)\n",
      "Calculate scheduling : line, station : 1, 0 ,( 12 recursion calls)\n",
      "Calculate scheduling : line, station : 2, 0 ,( 13 recursion calls)\n",
      "Calculate scheduling : line, station : 2, 1 ,( 14 recursion calls)\n",
      "Calculate scheduling : line, station : 1, 0 ,( 15 recursion calls)\n",
      "Calculate scheduling : line, station : 2, 0 ,( 16 recursion calls)\n",
      "Calculate scheduling : line, station : 2, 3 ,( 17 recursion calls)\n",
      "Calculate scheduling : line, station : 1, 2 ,( 18 recursion calls)\n",
      "Calculate scheduling : line, station : 1, 1 ,( 19 recursion calls)\n",
      "Calculate scheduling : line, station : 1, 0 ,( 20 recursion calls)\n",
      "Calculate scheduling : line, station : 2, 0 ,( 21 recursion calls)\n",
      "Calculate scheduling : line, station : 2, 1 ,( 22 recursion calls)\n",
      "Calculate scheduling : line, station : 1, 0 ,( 23 recursion calls)\n",
      "Calculate scheduling : line, station : 2, 0 ,( 24 recursion calls)\n",
      "Calculate scheduling : line, station : 2, 2 ,( 25 recursion calls)\n",
      "Calculate scheduling : line, station : 1, 1 ,( 26 recursion calls)\n",
      "Calculate scheduling : line, station : 1, 0 ,( 27 recursion calls)\n",
      "Calculate scheduling : line, station : 2, 0 ,( 28 recursion calls)\n",
      "Calculate scheduling : line, station : 2, 1 ,( 29 recursion calls)\n",
      "Calculate scheduling : line, station : 1, 0 ,( 30 recursion calls)\n",
      "Calculate scheduling : line, station : 2, 0 ,( 31 recursion calls)\n",
      "Calculate scheduling : line, station : 2, 4 ,( 32 recursion calls)\n",
      "Calculate scheduling : line, station : 1, 3 ,( 33 recursion calls)\n",
      "Calculate scheduling : line, station : 1, 2 ,( 34 recursion calls)\n",
      "Calculate scheduling : line, station : 1, 1 ,( 35 recursion calls)\n",
      "Calculate scheduling : line, station : 1, 0 ,( 36 recursion calls)\n",
      "Calculate scheduling : line, station : 2, 0 ,( 37 recursion calls)\n",
      "Calculate scheduling : line, station : 2, 1 ,( 38 recursion calls)\n",
      "Calculate scheduling : line, station : 1, 0 ,( 39 recursion calls)\n",
      "Calculate scheduling : line, station : 2, 0 ,( 40 recursion calls)\n",
      "Calculate scheduling : line, station : 2, 2 ,( 41 recursion calls)\n",
      "Calculate scheduling : line, station : 1, 1 ,( 42 recursion calls)\n",
      "Calculate scheduling : line, station : 1, 0 ,( 43 recursion calls)\n",
      "Calculate scheduling : line, station : 2, 0 ,( 44 recursion calls)\n",
      "Calculate scheduling : line, station : 2, 1 ,( 45 recursion calls)\n",
      "Calculate scheduling : line, station : 1, 0 ,( 46 recursion calls)\n",
      "Calculate scheduling : line, station : 2, 0 ,( 47 recursion calls)\n",
      "Calculate scheduling : line, station : 2, 3 ,( 48 recursion calls)\n",
      "Calculate scheduling : line, station : 1, 2 ,( 49 recursion calls)\n",
      "Calculate scheduling : line, station : 1, 1 ,( 50 recursion calls)\n",
      "Calculate scheduling : line, station : 1, 0 ,( 51 recursion calls)\n",
      "Calculate scheduling : line, station : 2, 0 ,( 52 recursion calls)\n",
      "Calculate scheduling : line, station : 2, 1 ,( 53 recursion calls)\n",
      "Calculate scheduling : line, station : 1, 0 ,( 54 recursion calls)\n",
      "Calculate scheduling : line, station : 2, 0 ,( 55 recursion calls)\n",
      "Calculate scheduling : line, station : 2, 2 ,( 56 recursion calls)\n",
      "Calculate scheduling : line, station : 1, 1 ,( 57 recursion calls)\n",
      "Calculate scheduling : line, station : 1, 0 ,( 58 recursion calls)\n",
      "Calculate scheduling : line, station : 2, 0 ,( 59 recursion calls)\n",
      "Calculate scheduling : line, station : 2, 1 ,( 60 recursion calls)\n",
      "Calculate scheduling : line, station : 1, 0 ,( 61 recursion calls)\n",
      "Calculate scheduling : line, station : 2, 0 ,( 62 recursion calls)\n",
      "Calculate scheduling : line, station : 2, 5 ,( 63 recursion calls)\n",
      "Calculate scheduling : line, station : 1, 4 ,( 64 recursion calls)\n",
      "Calculate scheduling : line, station : 1, 3 ,( 65 recursion calls)\n",
      "Calculate scheduling : line, station : 1, 2 ,( 66 recursion calls)\n",
      "Calculate scheduling : line, station : 1, 1 ,( 67 recursion calls)\n",
      "Calculate scheduling : line, station : 1, 0 ,( 68 recursion calls)\n",
      "Calculate scheduling : line, station : 2, 0 ,( 69 recursion calls)\n",
      "Calculate scheduling : line, station : 2, 1 ,( 70 recursion calls)\n",
      "Calculate scheduling : line, station : 1, 0 ,( 71 recursion calls)\n",
      "Calculate scheduling : line, station : 2, 0 ,( 72 recursion calls)\n",
      "Calculate scheduling : line, station : 2, 2 ,( 73 recursion calls)\n",
      "Calculate scheduling : line, station : 1, 1 ,( 74 recursion calls)\n",
      "Calculate scheduling : line, station : 1, 0 ,( 75 recursion calls)\n",
      "Calculate scheduling : line, station : 2, 0 ,( 76 recursion calls)\n",
      "Calculate scheduling : line, station : 2, 1 ,( 77 recursion calls)\n",
      "Calculate scheduling : line, station : 1, 0 ,( 78 recursion calls)\n",
      "Calculate scheduling : line, station : 2, 0 ,( 79 recursion calls)\n",
      "Calculate scheduling : line, station : 2, 3 ,( 80 recursion calls)\n",
      "Calculate scheduling : line, station : 1, 2 ,( 81 recursion calls)\n",
      "Calculate scheduling : line, station : 1, 1 ,( 82 recursion calls)\n",
      "Calculate scheduling : line, station : 1, 0 ,( 83 recursion calls)\n",
      "Calculate scheduling : line, station : 2, 0 ,( 84 recursion calls)\n",
      "Calculate scheduling : line, station : 2, 1 ,( 85 recursion calls)\n",
      "Calculate scheduling : line, station : 1, 0 ,( 86 recursion calls)\n",
      "Calculate scheduling : line, station : 2, 0 ,( 87 recursion calls)\n",
      "Calculate scheduling : line, station : 2, 2 ,( 88 recursion calls)\n",
      "Calculate scheduling : line, station : 1, 1 ,( 89 recursion calls)\n",
      "Calculate scheduling : line, station : 1, 0 ,( 90 recursion calls)\n",
      "Calculate scheduling : line, station : 2, 0 ,( 91 recursion calls)\n",
      "Calculate scheduling : line, station : 2, 1 ,( 92 recursion calls)\n",
      "Calculate scheduling : line, station : 1, 0 ,( 93 recursion calls)\n",
      "Calculate scheduling : line, station : 2, 0 ,( 94 recursion calls)\n",
      "Calculate scheduling : line, station : 2, 4 ,( 95 recursion calls)\n",
      "Calculate scheduling : line, station : 1, 3 ,( 96 recursion calls)\n",
      "Calculate scheduling : line, station : 1, 2 ,( 97 recursion calls)\n",
      "Calculate scheduling : line, station : 1, 1 ,( 98 recursion calls)\n",
      "Calculate scheduling : line, station : 1, 0 ,( 99 recursion calls)\n",
      "Calculate scheduling : line, station : 2, 0 ,( 100 recursion calls)\n",
      "Calculate scheduling : line, station : 2, 1 ,( 101 recursion calls)\n",
      "Calculate scheduling : line, station : 1, 0 ,( 102 recursion calls)\n",
      "Calculate scheduling : line, station : 2, 0 ,( 103 recursion calls)\n",
      "Calculate scheduling : line, station : 2, 2 ,( 104 recursion calls)\n",
      "Calculate scheduling : line, station : 1, 1 ,( 105 recursion calls)\n",
      "Calculate scheduling : line, station : 1, 0 ,( 106 recursion calls)\n",
      "Calculate scheduling : line, station : 2, 0 ,( 107 recursion calls)\n",
      "Calculate scheduling : line, station : 2, 1 ,( 108 recursion calls)\n",
      "Calculate scheduling : line, station : 1, 0 ,( 109 recursion calls)\n",
      "Calculate scheduling : line, station : 2, 0 ,( 110 recursion calls)\n",
      "Calculate scheduling : line, station : 2, 3 ,( 111 recursion calls)\n",
      "Calculate scheduling : line, station : 1, 2 ,( 112 recursion calls)\n",
      "Calculate scheduling : line, station : 1, 1 ,( 113 recursion calls)\n",
      "Calculate scheduling : line, station : 1, 0 ,( 114 recursion calls)\n",
      "Calculate scheduling : line, station : 2, 0 ,( 115 recursion calls)\n",
      "Calculate scheduling : line, station : 2, 1 ,( 116 recursion calls)\n",
      "Calculate scheduling : line, station : 1, 0 ,( 117 recursion calls)\n",
      "Calculate scheduling : line, station : 2, 0 ,( 118 recursion calls)\n",
      "Calculate scheduling : line, station : 2, 2 ,( 119 recursion calls)\n",
      "Calculate scheduling : line, station : 1, 1 ,( 120 recursion calls)\n",
      "Calculate scheduling : line, station : 1, 0 ,( 121 recursion calls)\n",
      "Calculate scheduling : line, station : 2, 0 ,( 122 recursion calls)\n",
      "Calculate scheduling : line, station : 2, 1 ,( 123 recursion calls)\n",
      "Calculate scheduling : line, station : 1, 0 ,( 124 recursion calls)\n",
      "Calculate scheduling : line, station : 2, 0 ,( 125 recursion calls)\n"
     ]
    }
   ],
   "source": [
    "time = lines.startScheduling()"
   ]
  },
  {
   "cell_type": "code",
   "execution_count": 56,
   "metadata": {},
   "outputs": [
    {
     "name": "stdout",
     "output_type": "stream",
     "text": [
      "Fatest production time :  38\n"
     ]
    }
   ],
   "source": [
    "print('Fatest production time : ', time)"
   ]
  },
  {
   "cell_type": "markdown",
   "metadata": {},
   "source": [
    "##### 2) Dp로 구현"
   ]
  },
  {
   "cell_type": "code",
   "execution_count": 65,
   "metadata": {},
   "outputs": [],
   "source": [
    "timeScheduling = [list(range(6)),list(range(6))]"
   ]
  },
  {
   "cell_type": "code",
   "execution_count": 77,
   "metadata": {},
   "outputs": [],
   "source": [
    "class AssemblyLinesDP:\n",
    "    timeStation = [[7,9,3,4,8,4], [8,5,6,4,5,7]]\n",
    "    timeBelt= [[2,2,3,1,3,4,3],[4,2,1,2,2,1,2]]\n",
    "    \n",
    "    timeScheduling = [list(range(6)),list(range(6))]\n",
    "    stationTracing = [list(range(6)),list(range(6))]\n",
    "    \n",
    "    def startSchedulingDP(self):\n",
    "        numStation = len(self.timeStation[0])\n",
    "        self.timeScheduling[0][0] = self.timeStation[0][0] + self.timeBelt[0][0]\n",
    "        self.timeScheduling[1][0] = self.timeStation[1][0] + self.timeBelt[1][0]\n",
    "        \n",
    "        for itr in range(1,numStation):\n",
    "            if self.timeScheduling[0][itr-1] > self.timeScheduling[1][itr-1] + self.timeBelt[1][itr]:\n",
    "                self.timeScheduling[0][itr] = self.timeStation[0][itr] + self.timeScheduling[1][itr-1] + self.timeBelt[1][itr]\n",
    "                self.stationTracing[0][itr] = 1\n",
    "            else:\n",
    "                self.timeScheduling[0][itr] = self.timeStation[0][itr] + self.timeScheduling[0][itr-1]\n",
    "                self.stationTracing[0][itr] = 0\n",
    "            \n",
    "            if self.timeScheduling[1][itr-1] > self.timeScheduling[0][itr-1] + self.timeBelt[0][itr]:\n",
    "                self.timeScheduling[1][itr] = self.timeStation[1][itr] + self.timeScheduling[0][itr-1] + self.timeBelt[0][itr]\n",
    "                self.stationTracing[1][itr] = 0\n",
    "            else:\n",
    "                self.timeScheduling[1][itr] = self.timeStation[1][itr] + self.timeScheduling[1][itr-1]\n",
    "                self.stationTracing[1][itr] = 1\n",
    "                \n",
    "        \n",
    "        costLine1 = self.timeScheduling[0][numStation - 1] + self.timeBelt[0][numStation]\n",
    "        costLine2 = self.timeScheduling[1][numStation - 1] + self.timeBelt[1][numStation]\n",
    "\n",
    "        if costLine1 > costLine2:\n",
    "            return costLine2 , 1\n",
    "        else:\n",
    "            return costLine1, 0\n",
    "    \n",
    "    def printTracing(self,lineTracing):\n",
    "        numStation = len(self.timeStation[0])\n",
    "        print(\"Line = {} , Station = {}\".format(lineTracing,numStation))\n",
    "        \n",
    "        for itr in range(numStation-1, 0 ,-1):\n",
    "            lineTracing = self.stationTracing[lineTracing][itr]\n",
    "            print(\"Line = {}, Station = {}\".format(lineTracing,itr))"
   ]
  },
  {
   "cell_type": "code",
   "execution_count": 78,
   "metadata": {},
   "outputs": [],
   "source": [
    "lines = AssemblyLinesDP()"
   ]
  },
  {
   "cell_type": "code",
   "execution_count": 79,
   "metadata": {},
   "outputs": [],
   "source": [
    "time,lineTracing = lines.startSchedulingDP()"
   ]
  },
  {
   "cell_type": "code",
   "execution_count": 80,
   "metadata": {},
   "outputs": [
    {
     "name": "stdout",
     "output_type": "stream",
     "text": [
      "Fatest production time :  38\n"
     ]
    }
   ],
   "source": [
    "print('Fatest production time : ',time)"
   ]
  },
  {
   "cell_type": "code",
   "execution_count": 81,
   "metadata": {},
   "outputs": [
    {
     "name": "stdout",
     "output_type": "stream",
     "text": [
      "Line = 0 , Station = 6\n",
      "Line = 1, Station = 5\n",
      "Line = 1, Station = 4\n",
      "Line = 0, Station = 3\n",
      "Line = 1, Station = 2\n",
      "Line = 0, Station = 1\n"
     ]
    }
   ],
   "source": [
    "lines.printTracing(lineTracing)"
   ]
  },
  {
   "cell_type": "code",
   "execution_count": null,
   "metadata": {},
   "outputs": [],
   "source": []
  }
 ],
 "metadata": {
  "kernelspec": {
   "display_name": "Python 3",
   "language": "python",
   "name": "python3"
  },
  "language_info": {
   "codemirror_mode": {
    "name": "ipython",
    "version": 3
   },
   "file_extension": ".py",
   "mimetype": "text/x-python",
   "name": "python",
   "nbconvert_exporter": "python",
   "pygments_lexer": "ipython3",
   "version": "3.7.4"
  }
 },
 "nbformat": 4,
 "nbformat_minor": 2
}
